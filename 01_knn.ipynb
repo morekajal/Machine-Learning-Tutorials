{
 "cells": [
  {
   "cell_type": "markdown",
   "id": "7a2a54aa",
   "metadata": {},
   "source": [
    "## KNN : A sample is classified by a Popularity vote of its nearest neighbors\n",
    "### We calculate the distance of current sample of test with each of the Training sample to find the nearest neighbors\n",
    "### To Calculate the distance, we use the Euclidean distance\n",
    "\n",
    "$$ d = \\sqrt{( X_2 - X_1 )^2  + ( Y_2 - Y_1 )^2 }$$\n",
    "\n",
    "### In General the formula can be written as:\n",
    "\n",
    "$$ \\sqrt{ \\sum_{i=0}^{n}(( p_i - q_i )^2 ) }  $$ "
   ]
  },
  {
   "cell_type": "code",
   "execution_count": 1,
   "id": "91264764",
   "metadata": {},
   "outputs": [],
   "source": [
    "import numpy as np\n",
    "from collections import Counter"
   ]
  },
  {
   "cell_type": "code",
   "execution_count": 2,
   "id": "5c84bc14",
   "metadata": {},
   "outputs": [],
   "source": [
    "# Define the distance formula as a Global function\n",
    "def euclidean_distance(x1, x2):\n",
    "    return np.sqrt(np.sum((x1-x2)**2))"
   ]
  },
  {
   "cell_type": "code",
   "execution_count": 3,
   "id": "54e1e9a8",
   "metadata": {},
   "outputs": [],
   "source": [
    "# KNN doen't involve a training step\n",
    "# We can store the training samples in fit method\n",
    "class KNN:\n",
    "    def __init__(self, k = 3):\n",
    "        #In init we simply want to store k\n",
    "        self.k = k\n",
    "        \n",
    "    def fit(self, X, y):       # Fit method to fit the training samples(X) and some training labels(y)\n",
    "        self.X_train = X\n",
    "        self.y_train = y\n",
    "    \n",
    "    #Define a Predict method\n",
    "    def predict(self, X):\n",
    "        # We want to predict over each sample\n",
    "        pred_labels = [self._predict(x) for x in X]     #Predicting x in all of the X samples\n",
    "        return np.array(pred_labels)                    # return pred_labels as its a list\n",
    "        \n",
    "        \n",
    "    def _predict(self,x):     # To predict for only one sample, use it in predict function above\n",
    "        # Compute the distances\n",
    "        # need to calcualte distance of x with all the training samples in the list\n",
    "        distances =  [euclidean_distance(x, x_train) for x_train in self.X_train]\n",
    "        \n",
    "        # Get K nearest samples, labels\n",
    "        # k_indices = np.argsort(distances)        # It will sort the distances and return the indices\n",
    "        # WE also only want to have k closest samples\n",
    "        k_indices = np.argsort(distances)[:self.k]\n",
    "        k_nearest_labels = [self.y_train[i] for i in k_indices]\n",
    "        \n",
    "        # Majority cote, most common class labels \n",
    "        most_common = Counter(k_nearest_labels).most_common(1)   #1 is for first or very common neighbor\n",
    "        return most_common[0][0]"
   ]
  }
 ],
 "metadata": {
  "kernelspec": {
   "display_name": "Python 3 (ipykernel)",
   "language": "python",
   "name": "python3"
  },
  "language_info": {
   "codemirror_mode": {
    "name": "ipython",
    "version": 3
   },
   "file_extension": ".py",
   "mimetype": "text/x-python",
   "name": "python",
   "nbconvert_exporter": "python",
   "pygments_lexer": "ipython3",
   "version": "3.9.0"
  }
 },
 "nbformat": 4,
 "nbformat_minor": 5
}
