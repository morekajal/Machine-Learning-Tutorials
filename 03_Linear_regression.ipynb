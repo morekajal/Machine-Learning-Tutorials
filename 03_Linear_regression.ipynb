{
 "cells": [
  {
   "cell_type": "markdown",
   "id": "3518ec31",
   "metadata": {},
   "source": [
    "## In Regeression : We predict continuous values\n",
    "## In Classification : We predict discrete values\n",
    "\n",
    "## Linear Regression : We want to approximate the data with a Linear function\n",
    "\n",
    "## Approximation :\n",
    "$$ \\hat{y}= w*x + b $$\n",
    "\n",
    "### Where 'w' are the weights and 'b' is the bias or the shift along the y-axis\n",
    "\n",
    "## Cost Function\n",
    "\n",
    "$$ MSE = J(w, b) = \\frac{1}{N} { \\sum_{i=0}^{n}} (y_i - (w*x_i + b))^2 $$\n",
    "\n",
    "$$ \\nabla J(m,b) = \\begin{bmatrix}\n",
    "                    \\frac{\\partial(J)} {\\partial(w)} \\\\\n",
    "                    \\frac{\\partial(J)} {\\partial(b)} \\\\ \n",
    "                    \\end{bmatrix} $$\n",
    "                    \n",
    " $$ \\nabla J(w,b) =  \\begin{bmatrix}\n",
    "                     \\frac{1}{N} { \\sum_{i=0}^{n}} -2x_i(y_i - (w * x_i + b)) \\\\\n",
    "                     \\frac{1}{N} { \\sum_{i=0}^{n}} -2(y_i - (w * x_i + b) )  \\\\\n",
    "                     \\end{bmatrix}\n",
    "$$\n",
    "\n",
    "                     \n",
    "         \n",
    "## Gradient Descent :\n",
    "### It's an iterative method to get to the minimum\n",
    "### We start with random initialization and then search for a way to the steepest descent to finally reach the minimum\n",
    "\n",
    "## With each iteration we have the Update Rules:\n",
    "\n",
    "$$ w_2 = w_1 - \\alpha * dw $$\n",
    "$$ b_2 = b_1 - \\alpha * db $$\n",
    "### Where    alpha is the learning rate       \n",
    "                  \n"
   ]
  },
  {
   "cell_type": "code",
   "execution_count": 1,
   "id": "23f4b0fa",
   "metadata": {},
   "outputs": [],
   "source": [
    "import numpy as np"
   ]
  },
  {
   "cell_type": "code",
   "execution_count": 2,
   "id": "9d016277",
   "metadata": {},
   "outputs": [],
   "source": [
    "class LinearRegression:\n",
    "    \n",
    "    def __init__(self, lr = 0.001, n_iters = 1000):\n",
    "        self.lr = lr\n",
    "        self.n_iters = n_iters\n",
    "        self.weights = None\n",
    "        self.bias = None\n",
    "        \n",
    "    def fit(self, X, y):      # This will involve training step and gradient descent\n",
    "        #We need to have some random initialization for Gradient descent\n",
    "        n_samples, n_features = X.shape\n",
    "        self.weights = np.zeros(n_features)  #For each component we put a zero or can assign some random values also\n",
    "        self.bias = 0\n",
    "        \n",
    "        # for loop for iterative gradient descent\n",
    "        for _ in range(self.n_iters):\n",
    "            y_predicted = np.dot(X, self.weights) + self.bias\n",
    "            \n",
    "            dw = (1/n_samples) * np.dot(X.T, (y_predicted - y))\n",
    "            db = (1/n_samples) * np.sum(y_predicted - y)\n",
    "            \n",
    "            self.weights -= self.lr * dw\n",
    "            self.bias -= self.lr * db\n",
    "    \n",
    "    def predict(self, X):\n",
    "        y_predicted = np.dot(X, self.weights) + self.bias\n",
    "        return y_predicted\n"
   ]
  }
 ],
 "metadata": {
  "kernelspec": {
   "display_name": "Python 3 (ipykernel)",
   "language": "python",
   "name": "python3"
  },
  "language_info": {
   "codemirror_mode": {
    "name": "ipython",
    "version": 3
   },
   "file_extension": ".py",
   "mimetype": "text/x-python",
   "name": "python",
   "nbconvert_exporter": "python",
   "pygments_lexer": "ipython3",
   "version": "3.9.0"
  }
 },
 "nbformat": 4,
 "nbformat_minor": 5
}
